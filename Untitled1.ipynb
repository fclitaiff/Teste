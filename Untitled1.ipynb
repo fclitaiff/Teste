{
 "cells": [
  {
   "cell_type": "code",
   "execution_count": 1,
   "metadata": {},
   "outputs": [],
   "source": [
    "from gpiozero import LED, Button\n",
    "from time import sleep\n",
    "from signal import pause\n",
    "import random"
   ]
  },
  {
   "cell_type": "code",
   "execution_count": 2,
   "metadata": {},
   "outputs": [],
   "source": [
    "f = list()\n",
    "n = 1"
   ]
  },
  {
   "cell_type": "code",
   "execution_count": 3,
   "metadata": {},
   "outputs": [],
   "source": [
    "\n",
    "btn1 = Button(20)\n",
    "btn2 = Button(12)"
   ]
  },
  {
   "cell_type": "code",
   "execution_count": 4,
   "metadata": {},
   "outputs": [],
   "source": [
    "def G1():\n",
    "    global f, n\n",
    "    if n > len(f):\n",
    "        f.append(1)\n",
    "        n += 1\n",
    "        print(n,f)\n",
    "    else:\n",
    "        print(n,f)\n",
    "    return f, n"
   ]
  },
  {
   "cell_type": "code",
   "execution_count": 5,
   "metadata": {},
   "outputs": [],
   "source": [
    "def G2():\n",
    "    global f, n\n",
    "    if n > len(f):\n",
    "        f.append(2)\n",
    "        n += 1\n",
    "        #print(n,len(f))\n",
    "    else:\n",
    "        print(n,len(f))\n",
    "    return f, n\n",
    "    "
   ]
  },
  {
   "cell_type": "code",
   "execution_count": null,
   "metadata": {},
   "outputs": [
    {
     "name": "stdout",
     "output_type": "stream",
     "text": [
      "2 [1]\n",
      "3 [1, 1]\n",
      "4 3\n",
      "5 [1, 1, 2, 1]\n"
     ]
    }
   ],
   "source": [
    "while True:\n",
    "    #print(j)\n",
    "    btn1.when_pressed = G1\n",
    "    btn2.when_pressed = G2\n",
    "    \n",
    "    #j += 1\n",
    "    "
   ]
  },
  {
   "cell_type": "code",
   "execution_count": null,
   "metadata": {},
   "outputs": [],
   "source": []
  }
 ],
 "metadata": {
  "kernelspec": {
   "display_name": "Python 3",
   "language": "python",
   "name": "python3"
  },
  "language_info": {
   "codemirror_mode": {
    "name": "ipython",
    "version": 3
   },
   "file_extension": ".py",
   "mimetype": "text/x-python",
   "name": "python",
   "nbconvert_exporter": "python",
   "pygments_lexer": "ipython3",
   "version": "3.7.3"
  }
 },
 "nbformat": 4,
 "nbformat_minor": 2
}
